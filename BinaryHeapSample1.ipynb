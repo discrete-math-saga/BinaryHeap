{
  "cells": [
    {
      "attachments": {},
      "cell_type": "markdown",
      "metadata": {},
      "source": [
        "# Binary Heapの例"
      ]
    },
    {
      "cell_type": "code",
      "execution_count": null,
      "metadata": {
        "trusted": true
      },
      "outputs": [],
      "source": [
        "import sys\n",
        "from binaryHeap import BinaryHeap"
      ]
    },
    {
      "attachments": {},
      "cell_type": "markdown",
      "metadata": {},
      "source": [
        "## 例題用のクラス\n",
        "- 比較を行う`__lt__`を定義している"
      ]
    },
    {
      "cell_type": "code",
      "execution_count": null,
      "metadata": {
        "trusted": true
      },
      "outputs": [],
      "source": [
        "class MyData:\n",
        "    \"\"\"\n",
        "    例題用のクラス\n",
        "    \"\"\"\n",
        "    def __init__(self, i:int, v:float):\n",
        "        self.i = i\n",
        "        self.v = v\n",
        "        \n",
        "    def __lt__(self, o:'MyData') -> bool:\n",
        "        return self.v < o.getValue()\n",
        "\n",
        "    def __str__(self) -> str:\n",
        "        return f'({self.i}, {self.v})'\n",
        "    \n",
        "    def setValue(self, v:float) -> None:\n",
        "        self.v = v\n",
        "\n",
        "    def get(self) -> tuple[int,float]:\n",
        "        return (self.i, self.v)\n",
        "    \n",
        "    def getValue(self) -> float:\n",
        "        return self.v\n"
      ]
    },
    {
      "cell_type": "code",
      "execution_count": null,
      "metadata": {
        "trusted": true
      },
      "outputs": [],
      "source": [
        "data0 = [\n",
        "    .6, .9, .1, .2, .4, .5, .3, .4, .1, .3, .8, .2\n",
        "    ]\n",
        "data:list[MyData] = list()\n",
        "for i in range(len(data0)):\n",
        "    s = MyData(i + 1,data0[i])\n",
        "    data.append(s)\n",
        "    \n",
        "bh = BinaryHeap()\n",
        "for d in data:\n",
        "    bh.add(d)\n",
        "    \n",
        "#要素の追加\n",
        "bh.add(MyData(13, .2))\n",
        "print(bh)\n",
        "\n",
        "#最小要素の取り出し\n",
        "bh.poll()\n",
        "print(bh)\n",
        "\n",
        "#4番目に入れたデータを探す\n",
        "x = None\n",
        "for d in data:\n",
        "    (i, v)=d.get()\n",
        "    if i == 4:\n",
        "        x = d\n",
        "\n",
        "#4番目に入れたデータの値を0.2に変更する\n",
        "if x:\n",
        "    x.setValue(0.2)\n",
        "    bh.raiseValue(x)\n",
        "    print(bh)\n",
        "\n"
      ]
    }
  ],
  "metadata": {
    "kernelspec": {
      "display_name": "Python 3.7.8 64-bit",
      "metadata": {
        "interpreter": {
          "hash": "46108ca2502c6592bfd1aaec7627ce7d0b1185d2b82177369829dec32ee1ea38"
        }
      },
      "name": "python3"
    },
    "language_info": {
      "codemirror_mode": {
        "name": "ipython",
        "version": 3
      },
      "file_extension": ".py",
      "mimetype": "text/x-python",
      "name": "python",
      "nbconvert_exporter": "python",
      "pygments_lexer": "ipython3",
      "version": "3.9.7"
    }
  },
  "nbformat": 4,
  "nbformat_minor": 2
}
